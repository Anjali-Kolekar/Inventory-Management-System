{
 "cells": [
  {
   "cell_type": "markdown",
   "id": "34c1d852",
   "metadata": {},
   "source": [
    "## Item stored in json file"
   ]
  },
  {
   "cell_type": "code",
   "execution_count": 1,
   "id": "0fdc5653",
   "metadata": {},
   "outputs": [],
   "source": [
    "item = {    101 : {'prod_name' : 'suger' , 'pr' : 100 , 'qn' : 100 , 'discount' : 10, 'manu_date' : '10-9-2020'},\n",
    "            102 : {'prod_name' : 'milk' , 'pr' : 60 , 'qn' : 200 , 'discount ': 15 , 'manu_date' : '1-9-2020'},\n",
    "            104 : {'prod_name' : 'Buscuit' ,'pr' : 200 , 'qn' : 1000 , 'discount' : 20, 'manu_date' : '10-1-2020'},\n",
    "            105 : {'prod_name' : 'namkeen' , 'pr' : 250 , 'qn' : 2000 , 'discount' : 15,'manu_date' : '10-2-2020'},\n",
    "            106 : {'prod_name' : 'pickle' , 'pr' : 300 , 'qn' : 150 , 'discount' : 10,'manu_date' : '10-3-2020'},\n",
    "            107 : {'prod_name' : 'Dry Fruit' , 'pr' : 1500 , 'qn' : 250 , 'discount' : 20, 'manu_date' : '12-9-2020'},\n",
    "            108 : {'prod_name' : 'Energy drink' , 'pr' : 700 , 'qn' : 100 , 'discount' : 13, 'manu_date' : '10-6-2020'},\n",
    "            109 : {'prod_name' : 'Health Drink' , 'pr' : 900 , 'qn' : 150 , 'discount' : 35, 'manu_date' : '11-9-2020'},\n",
    "            110 : {'prod_name' : 'Soft Drink' , 'pr' : 900 , 'qn' : 100 , 'discount' : 25, 'manu_date' : '10-10-2020'},\n",
    "            111 : {'prod_name' : 'Tea' , 'pr' : 650 , 'qn' : 60 , 'discount' : 25, 'manu_date' : '10-12-2020'},\n",
    "            112 : {'prod_name' : 'Coffee' , 'pr' : 200 , 'qn' : 100 , 'discount' : 45, 'manu_date' : '19-9-2020'},\n",
    "            113 : {'prod_name' : 'Ketchup' , 'pr' : 100 , 'qn' : 300 , 'discount' : 35 ,'manu_date' : '12-12-2020'},\n",
    "            114 : {'prod_name' : 'Sauces' , 'pr' : 250 , 'qn' : 100 , 'discount' : 30, 'manu_date' : '10-10-2020'},\n",
    "            115 : {'prod_name' : 'Jam' , 'pr' : 250 , 'qn' : 350, 'discount' : 25, 'manu_date' : '10-9-2020'},\n",
    "            116 : {'prod_name' : 'Honey' , 'pr' : 300 , 'qn' : 200 , 'discount' : 40,'manu_date' : '10-5-2020' },\n",
    "            117 : {'prod_name' : 'Oil' , 'pr' : 250 , 'qn' : 120 , 'discount' : 10,'manu_date' : '10-2-2020'},\n",
    "            118 : {'prod_name' : 'Dal' , 'pr' : 300 , 'qn' : 140 , 'discount' : 23,'manu_date' : '1-9-2020'},\n",
    "            119 : {'prod_name' : 'Atta' , 'pr' : 200 , 'qn' : 230 , 'discount' : 17, 'manu_date' : '11-9-2020'},\n",
    "            120 : {'prod_name' : 'Chocolate' , 'pr' : 350 , 'qn' : 100 , 'discount' : 13, 'manu_date' : '10-6-2020'},\n",
    "            121 : {'prod_name' : 'Breakfat food' , 'pr' : 150 , 'qn' : 350 , 'discount' : 10, 'manu_date' : '20-9-2020'},\n",
    "            122 : {'prod_name' : 'laundry' , 'pr' : 300 , 'qn' : 150 , 'discount' : 12, 'manu_date' : '10-8-2020'},\n",
    "            124 : {'prod_name' : 'Beverages' , 'pr' : 500 , 'qn' : 100 , 'discount' : 15, 'manu_date' : '13-9-2020'},\n",
    "            125 : {'prod_name' : 'Rice' , 'pr' : 200 , 'qn' : 400 , 'discount' : 25, 'manu_date' : '10-4-2020'},\n",
    "            126 : {'prod_name' : 'Spices' , 'pr' : 200 , 'qn' : 100 , 'discount' : 10, 'manu_date' : '11-9-2020'},\n",
    "            127 : {'prod_name' : 'Pomegranuts' , 'pr' : 150 , 'qn' : 200 , 'discount' : 20, 'manu_date' : '13-9-2020'},\n",
    "            128 : {'prod_name' : 'Noodles' , 'pr' : 100 , 'qn' : 100 , 'discount' : 15, 'manu_date' : '10-7-2020'},\n",
    "            129 : {'prod_name' : 'Pasta' , 'pr' : 100 , 'qn' : 250 , 'discount' : 20, 'manu_date' : '10-10-2020'},\n",
    "            130 : {'prod_name' : 'Pet Care' , 'pr' : 200 , 'qn' : 100 , 'discount' : 10, 'manu_date' : '10-2-2020'},\n",
    "            131 : {'prod_name' : 'OralCare' , 'pr' : 100 , 'qn' : 240 , 'discount' : 30, 'manu_date' : '10-2-2020'},\n",
    "            132 : {'prod_name' : 'Cleaninng Tool' , 'pr' : 200 , 'qn' : 230 , 'discount' : 10, 'manu_date' : '10-12-2020'},\n",
    "            133 : {'prod_name' : 'Room Freshner' , 'pr' : 200 , 'qn' : 100 , 'discount' : 15, 'manu_date' : '10-8-2020'},\n",
    "            134 : {'prod_name' : 'Handwash' , 'pr' : 200 , 'qn' : 100 , 'discount' : 20, 'manu_date' : '18-9-2020'},\n",
    "            135 : {'prod_name' : 'Soap' , 'pr' : 60 , 'qn' : 1000 , 'discount' : 10, 'manu_date' : '13-9-2020'}\n",
    "           \n",
    "\n",
    "}"
   ]
  },
  {
   "cell_type": "code",
   "execution_count": 2,
   "id": "988dc8c2",
   "metadata": {
    "scrolled": true
   },
   "outputs": [],
   "source": [
    "import json\n",
    "\n",
    "item1 = json.dumps(item)\n",
    "file = open('Record.json','w')\n",
    "file.write(item1)\n",
    "file.close()\n",
    "\n"
   ]
  },
  {
   "cell_type": "markdown",
   "id": "5ad14be8",
   "metadata": {},
   "source": [
    "## Read from json file"
   ]
  },
  {
   "cell_type": "code",
   "execution_count": 3,
   "id": "f226c947",
   "metadata": {},
   "outputs": [],
   "source": [
    "import json\n",
    "\n",
    "\n",
    "file = open('Record.json','r')\n",
    "json_content = file.read()\n",
    "\n",
    "file.close()\n"
   ]
  },
  {
   "cell_type": "code",
   "execution_count": 4,
   "id": "48d8616f",
   "metadata": {},
   "outputs": [
    {
     "data": {
      "text/plain": [
       "'{\"101\": {\"prod_name\": \"suger\", \"pr\": 100, \"qn\": 100, \"discount\": 10, \"manu_date\": \"10-9-2020\"}, \"102\": {\"prod_name\": \"milk\", \"pr\": 60, \"qn\": 200, \"discount \": 15, \"manu_date\": \"1-9-2020\"}, \"104\": {\"prod_name\": \"Buscuit\", \"pr\": 200, \"qn\": 1000, \"discount\": 20, \"manu_date\": \"10-1-2020\"}, \"105\": {\"prod_name\": \"namkeen\", \"pr\": 250, \"qn\": 2000, \"discount\": 15, \"manu_date\": \"10-2-2020\"}, \"106\": {\"prod_name\": \"pickle\", \"pr\": 300, \"qn\": 150, \"discount\": 10, \"manu_date\": \"10-3-2020\"}, \"107\": {\"prod_name\": \"Dry Fruit\", \"pr\": 1500, \"qn\": 250, \"discount\": 20, \"manu_date\": \"12-9-2020\"}, \"108\": {\"prod_name\": \"Energy drink\", \"pr\": 700, \"qn\": 100, \"discount\": 13, \"manu_date\": \"10-6-2020\"}, \"109\": {\"prod_name\": \"Health Drink\", \"pr\": 900, \"qn\": 150, \"discount\": 35, \"manu_date\": \"11-9-2020\"}, \"110\": {\"prod_name\": \"Soft Drink\", \"pr\": 900, \"qn\": 100, \"discount\": 25, \"manu_date\": \"10-10-2020\"}, \"111\": {\"prod_name\": \"Tea\", \"pr\": 650, \"qn\": 60, \"discount\": 25, \"manu_date\": \"10-12-2020\"}, \"112\": {\"prod_name\": \"Coffee\", \"pr\": 200, \"qn\": 100, \"discount\": 45, \"manu_date\": \"19-9-2020\"}, \"113\": {\"prod_name\": \"Ketchup\", \"pr\": 100, \"qn\": 300, \"discount\": 35, \"manu_date\": \"12-12-2020\"}, \"114\": {\"prod_name\": \"Sauces\", \"pr\": 250, \"qn\": 100, \"discount\": 30, \"manu_date\": \"10-10-2020\"}, \"115\": {\"prod_name\": \"Jam\", \"pr\": 250, \"qn\": 350, \"discount\": 25, \"manu_date\": \"10-9-2020\"}, \"116\": {\"prod_name\": \"Honey\", \"pr\": 300, \"qn\": 200, \"discount\": 40, \"manu_date\": \"10-5-2020\"}, \"117\": {\"prod_name\": \"Oil\", \"pr\": 250, \"qn\": 120, \"discount\": 10, \"manu_date\": \"10-2-2020\"}, \"118\": {\"prod_name\": \"Dal\", \"pr\": 300, \"qn\": 140, \"discount\": 23, \"manu_date\": \"1-9-2020\"}, \"119\": {\"prod_name\": \"Atta\", \"pr\": 200, \"qn\": 230, \"discount\": 17, \"manu_date\": \"11-9-2020\"}, \"120\": {\"prod_name\": \"Chocolate\", \"pr\": 350, \"qn\": 100, \"discount\": 13, \"manu_date\": \"10-6-2020\"}, \"121\": {\"prod_name\": \"Breakfat food\", \"pr\": 150, \"qn\": 350, \"discount\": 10, \"manu_date\": \"20-9-2020\"}, \"122\": {\"prod_name\": \"laundry\", \"pr\": 300, \"qn\": 150, \"discount\": 12, \"manu_date\": \"10-8-2020\"}, \"124\": {\"prod_name\": \"Beverages\", \"pr\": 500, \"qn\": 100, \"discount\": 15, \"manu_date\": \"13-9-2020\"}, \"125\": {\"prod_name\": \"Rice\", \"pr\": 200, \"qn\": 400, \"discount\": 25, \"manu_date\": \"10-4-2020\"}, \"126\": {\"prod_name\": \"Spices\", \"pr\": 200, \"qn\": 100, \"discount\": 10, \"manu_date\": \"11-9-2020\"}, \"127\": {\"prod_name\": \"Pomegranuts\", \"pr\": 150, \"qn\": 200, \"discount\": 20, \"manu_date\": \"13-9-2020\"}, \"128\": {\"prod_name\": \"Noodles\", \"pr\": 100, \"qn\": 100, \"discount\": 15, \"manu_date\": \"10-7-2020\"}, \"129\": {\"prod_name\": \"Pasta\", \"pr\": 100, \"qn\": 250, \"discount\": 20, \"manu_date\": \"10-10-2020\"}, \"130\": {\"prod_name\": \"Pet Care\", \"pr\": 200, \"qn\": 100, \"discount\": 10, \"manu_date\": \"10-2-2020\"}, \"131\": {\"prod_name\": \"OralCare\", \"pr\": 100, \"qn\": 240, \"discount\": 30, \"manu_date\": \"10-2-2020\"}, \"132\": {\"prod_name\": \"Cleaninng Tool\", \"pr\": 200, \"qn\": 230, \"discount\": 10, \"manu_date\": \"10-12-2020\"}, \"133\": {\"prod_name\": \"Room Freshner\", \"pr\": 200, \"qn\": 100, \"discount\": 15, \"manu_date\": \"10-8-2020\"}, \"134\": {\"prod_name\": \"Handwash\", \"pr\": 200, \"qn\": 100, \"discount\": 20, \"manu_date\": \"18-9-2020\"}, \"135\": {\"prod_name\": \"Soap\", \"pr\": 60, \"qn\": 1000, \"discount\": 10, \"manu_date\": \"13-9-2020\"}}'"
      ]
     },
     "execution_count": 4,
     "metadata": {},
     "output_type": "execute_result"
    }
   ],
   "source": [
    "json_content"
   ]
  },
  {
   "cell_type": "code",
   "execution_count": 5,
   "id": "bfbf6093",
   "metadata": {},
   "outputs": [
    {
     "name": "stdout",
     "output_type": "stream",
     "text": [
      "{'101': {'prod_name': 'suger', 'pr': 100, 'qn': 100, 'discount': 10, 'manu_date': '10-9-2020'}, '102': {'prod_name': 'milk', 'pr': 60, 'qn': 200, 'discount ': 15, 'manu_date': '1-9-2020'}, '104': {'prod_name': 'Buscuit', 'pr': 200, 'qn': 1000, 'discount': 20, 'manu_date': '10-1-2020'}, '105': {'prod_name': 'namkeen', 'pr': 250, 'qn': 2000, 'discount': 15, 'manu_date': '10-2-2020'}, '106': {'prod_name': 'pickle', 'pr': 300, 'qn': 150, 'discount': 10, 'manu_date': '10-3-2020'}, '107': {'prod_name': 'Dry Fruit', 'pr': 1500, 'qn': 250, 'discount': 20, 'manu_date': '12-9-2020'}, '108': {'prod_name': 'Energy drink', 'pr': 700, 'qn': 100, 'discount': 13, 'manu_date': '10-6-2020'}, '109': {'prod_name': 'Health Drink', 'pr': 900, 'qn': 150, 'discount': 35, 'manu_date': '11-9-2020'}, '110': {'prod_name': 'Soft Drink', 'pr': 900, 'qn': 100, 'discount': 25, 'manu_date': '10-10-2020'}, '111': {'prod_name': 'Tea', 'pr': 650, 'qn': 60, 'discount': 25, 'manu_date': '10-12-2020'}, '112': {'prod_name': 'Coffee', 'pr': 200, 'qn': 100, 'discount': 45, 'manu_date': '19-9-2020'}, '113': {'prod_name': 'Ketchup', 'pr': 100, 'qn': 300, 'discount': 35, 'manu_date': '12-12-2020'}, '114': {'prod_name': 'Sauces', 'pr': 250, 'qn': 100, 'discount': 30, 'manu_date': '10-10-2020'}, '115': {'prod_name': 'Jam', 'pr': 250, 'qn': 350, 'discount': 25, 'manu_date': '10-9-2020'}, '116': {'prod_name': 'Honey', 'pr': 300, 'qn': 200, 'discount': 40, 'manu_date': '10-5-2020'}, '117': {'prod_name': 'Oil', 'pr': 250, 'qn': 120, 'discount': 10, 'manu_date': '10-2-2020'}, '118': {'prod_name': 'Dal', 'pr': 300, 'qn': 140, 'discount': 23, 'manu_date': '1-9-2020'}, '119': {'prod_name': 'Atta', 'pr': 200, 'qn': 230, 'discount': 17, 'manu_date': '11-9-2020'}, '120': {'prod_name': 'Chocolate', 'pr': 350, 'qn': 100, 'discount': 13, 'manu_date': '10-6-2020'}, '121': {'prod_name': 'Breakfat food', 'pr': 150, 'qn': 350, 'discount': 10, 'manu_date': '20-9-2020'}, '122': {'prod_name': 'laundry', 'pr': 300, 'qn': 150, 'discount': 12, 'manu_date': '10-8-2020'}, '124': {'prod_name': 'Beverages', 'pr': 500, 'qn': 100, 'discount': 15, 'manu_date': '13-9-2020'}, '125': {'prod_name': 'Rice', 'pr': 200, 'qn': 400, 'discount': 25, 'manu_date': '10-4-2020'}, '126': {'prod_name': 'Spices', 'pr': 200, 'qn': 100, 'discount': 10, 'manu_date': '11-9-2020'}, '127': {'prod_name': 'Pomegranuts', 'pr': 150, 'qn': 200, 'discount': 20, 'manu_date': '13-9-2020'}, '128': {'prod_name': 'Noodles', 'pr': 100, 'qn': 100, 'discount': 15, 'manu_date': '10-7-2020'}, '129': {'prod_name': 'Pasta', 'pr': 100, 'qn': 250, 'discount': 20, 'manu_date': '10-10-2020'}, '130': {'prod_name': 'Pet Care', 'pr': 200, 'qn': 100, 'discount': 10, 'manu_date': '10-2-2020'}, '131': {'prod_name': 'OralCare', 'pr': 100, 'qn': 240, 'discount': 30, 'manu_date': '10-2-2020'}, '132': {'prod_name': 'Cleaninng Tool', 'pr': 200, 'qn': 230, 'discount': 10, 'manu_date': '10-12-2020'}, '133': {'prod_name': 'Room Freshner', 'pr': 200, 'qn': 100, 'discount': 15, 'manu_date': '10-8-2020'}, '134': {'prod_name': 'Handwash', 'pr': 200, 'qn': 100, 'discount': 20, 'manu_date': '18-9-2020'}, '135': {'prod_name': 'Soap', 'pr': 60, 'qn': 1000, 'discount': 10, 'manu_date': '13-9-2020'}}\n"
     ]
    }
   ],
   "source": [
    "record = json.loads(json_content)\n",
    "print (record)"
   ]
  },
  {
   "cell_type": "markdown",
   "id": "25aba762",
   "metadata": {},
   "source": [
    "## Add new item in json file"
   ]
  },
  {
   "cell_type": "code",
   "execution_count": 9,
   "id": "ecaaf88f",
   "metadata": {},
   "outputs": [
    {
     "name": "stdout",
     "output_type": "stream",
     "text": [
      "*********************** ADD NEW ITEM **************************\n",
      "\n",
      "\n",
      "Enter product id you want to enter in List : 1\n",
      "Enter the Name of product : Tools\n",
      "Enter price : 599\n",
      "Enter discount : 10\n",
      "Price after discount :  540\n",
      "Enter quantity : 20\n",
      "Enter Manufacturing date  : 1-1-2021\n",
      "\n",
      "Item added successfully\n",
      "Item added at Date :  09/06/2021 and at time : 14:46:27\n"
     ]
    }
   ],
   "source": [
    "from datetime import datetime \n",
    "\n",
    "now = datetime.now()\n",
    "print(\"*********************** ADD NEW ITEM **************************\\n\")\n",
    "id = int(input(\"\\nEnter product id you want to enter in List : \"))\n",
    "name = input(\"Enter the Name of product : \")\n",
    "Price = int(input(\"Enter price : \"))\n",
    "dis = int(input(\"Enter discount : \"))\n",
    "a = int(((Price * dis)/100))\n",
    "dis_price = Price-a\n",
    "print(\"Price after discount : \",dis_price)\n",
    "\n",
    "qn = int(input(\"Enter quantity : \"))\n",
    "exp = input(\"Enter Manufacturing date  : \")\n",
    "\n",
    "\n",
    "\n",
    "item[id]={'prod_name' : name,'pr' : Price, 'qn' : qn, 'discount' : dis, 'manu_date' : exp}\n",
    "new_item =json.dumps(item)\n",
    "\n",
    "file = open('Record.json','w')\n",
    "file.write(new_item)\n",
    "print(\"\\nItem added successfully\")\n",
    "\n",
    "print(\"Item added at Date : \", now.strftime(\"%m/%d/%Y\"), \"and at time :\",now.strftime(\"%H:%M:%S\"))\n",
    "\n",
    "file.close()\n"
   ]
  }
 ],
 "metadata": {
  "kernelspec": {
   "display_name": "Python 3",
   "language": "python",
   "name": "python3"
  },
  "language_info": {
   "codemirror_mode": {
    "name": "ipython",
    "version": 3
   },
   "file_extension": ".py",
   "mimetype": "text/x-python",
   "name": "python",
   "nbconvert_exporter": "python",
   "pygments_lexer": "ipython3",
   "version": "3.8.8"
  }
 },
 "nbformat": 4,
 "nbformat_minor": 5
}
